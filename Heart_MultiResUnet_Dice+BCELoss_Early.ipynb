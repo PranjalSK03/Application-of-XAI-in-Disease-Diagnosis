{
  "nbformat": 4,
  "nbformat_minor": 0,
  "metadata": {
    "colab": {
      "provenance": [],
      "gpuType": "T4"
    },
    "kernelspec": {
      "name": "python3",
      "display_name": "Python 3"
    },
    "language_info": {
      "name": "python"
    },
    "accelerator": "GPU"
  },
  "cells": [
    {
      "cell_type": "code",
      "source": [
        "from google.colab import drive\n",
        "drive.mount('/content/drive')"
      ],
      "metadata": {
        "colab": {
          "base_uri": "https://localhost:8080/"
        },
        "id": "ifIqLa4hlgkF",
        "outputId": "4926accf-6d8d-4a29-b8ef-78c08345af5b"
      },
      "execution_count": null,
      "outputs": [
        {
          "output_type": "stream",
          "name": "stdout",
          "text": [
            "Mounted at /content/drive\n"
          ]
        }
      ]
    },
    {
      "cell_type": "code",
      "source": [
        "\n",
        "import os\n",
        "import cv2\n",
        "import numpy as np\n",
        "from tqdm import tqdm\n",
        "import matplotlib.pyplot as plt\n",
        "from keras import initializers\n",
        "from keras.layers import SpatialDropout2D,Input, Conv2D, MaxPooling2D, Conv2DTranspose, concatenate,AveragePooling2D, UpSampling2D, BatchNormalization, Activation, add,Dropout,Permute,ZeroPadding2D,Add, Reshape\n",
        "from keras.models import Model, model_from_json\n",
        "from keras.optimizers import Adam\n",
        "# from keras.layers.advanced_activations import ELU, LeakyReLU, ReLU, PReLU\n",
        "# from keras.utils.vis_utils import plot_model\n",
        "from keras import backend as K\n",
        "from sklearn.model_selection import train_test_split\n",
        "from sklearn.metrics import classification_report\n",
        "from keras import applications, optimizers, callbacks\n",
        "import matplotlib\n",
        "import keras\n",
        "import tensorflow as tf\n",
        "from keras.layers import *\n",
        "import json\n",
        "from tensorflow.keras.metrics import MeanIoU, Recall, Precision, BinaryAccuracy\n",
        "from tensorflow.keras.models import load_model\n",
        "from tensorflow.keras.optimizers import Adam\n",
        "learning_rate = 0.001\n",
        "from keras import backend as K"
      ],
      "metadata": {
        "id": "1Tzpsaiklg3A"
      },
      "execution_count": null,
      "outputs": []
    },
    {
      "cell_type": "code",
      "source": [
        "\n",
        "def conv2d_bn(x, filters, num_row, num_col, padding='same', strides=(1, 1), activation=None,dilation=(1,1), name=None):\n",
        "    '''\n",
        "    2D Convolutional layers\n",
        "\n",
        "    Arguments:\n",
        "        x {keras layer} -- input layer\n",
        "        filters {int} -- number of filters\n",
        "        num_row {int} -- number of rows in filters\n",
        "        num_col {int} -- number of columns in filters\n",
        "\n",
        "    Keyword Arguments:\n",
        "        padding {str} -- mode of padding (default: {'same'})\n",
        "        strides {tuple} -- stride of convolution operation (default: {(1, 1)})\n",
        "        activation {str} -- activation function (default: {'relu'})\n",
        "        name {str} -- name of the layer (default: {None})\n",
        "\n",
        "    Returns:\n",
        "        [keras layer] -- [output layer]\n",
        "    '''\n",
        "\n",
        "    x = Conv2D(filters, (num_row, num_col), strides=strides, dilation_rate=dilation, padding=padding, use_bias=False)(x)\n",
        "    x = BatchNormalization(axis=3, scale=False)(x)\n",
        "\n",
        "    # if(activation == None):\n",
        "    #     return x\n",
        "\n",
        "    x = Activation(activation, name=name)(x)\n",
        "\n",
        "    return x"
      ],
      "metadata": {
        "id": "FAqx4EpWljfj"
      },
      "execution_count": null,
      "outputs": []
    },
    {
      "cell_type": "code",
      "source": [
        "def trans_conv2d_bn(x, filters, num_row, num_col, padding='same', strides=(2, 2), name=None):\n",
        "    '''\n",
        "    2D Transposed Convolutional layers\n",
        "\n",
        "    Arguments:\n",
        "        x {keras layer} -- input layer\n",
        "        filters {int} -- number of filters\n",
        "        num_row {int} -- number of rows in filters\n",
        "        num_col {int} -- number of columns in filters\n",
        "\n",
        "    Keyword Arguments:\n",
        "        padding {str} -- mode of padding (default: {'same'})\n",
        "        strides {tuple} -- stride of convolution operation (default: {(2, 2)})\n",
        "        name {str} -- name of the layer (default: {None})\n",
        "\n",
        "    Returns:\n",
        "        [keras layer] -- [output layer]\n",
        "    '''\n",
        "\n",
        "    x = Conv2DTranspose(filters, (num_row, num_col), strides=strides, padding=padding)(x)\n",
        "    x = BatchNormalization(axis=3, scale=False)(x)\n",
        "\n",
        "    return x\n"
      ],
      "metadata": {
        "id": "rz03h1Sllk61"
      },
      "execution_count": null,
      "outputs": []
    },
    {
      "cell_type": "code",
      "source": [
        "def MultiResBlock(U, inp, alpha = 1.67):\n",
        "    '''\n",
        "    MultiRes Block\n",
        "\n",
        "    Arguments:\n",
        "        U {int} -- Number of filters in a corrsponding UNet stage\n",
        "        inp {keras layer} -- input layer\n",
        "\n",
        "    Returns:\n",
        "        [keras layer] -- [output layer]\n",
        "    '''\n",
        "\n",
        "    W = alpha * U\n",
        "\n",
        "    shortcut = inp\n",
        "\n",
        "    shortcut = conv2d_bn(shortcut, int(W*0.167) + int(W*0.333) +\n",
        "                        int(W*0.5), 1, 1, activation=None, padding='same')\n",
        "\n",
        "    conv3x3 = conv2d_bn(inp, int(W*0.167), 3, 3,\n",
        "                        activation='relu', padding='same')\n",
        "\n",
        "    conv5x5 = conv2d_bn(conv3x3, int(W*0.333), 3, 3,\n",
        "                        activation='relu', padding='same')\n",
        "\n",
        "    conv7x7 = conv2d_bn(conv5x5, int(W*0.5), 3, 3,\n",
        "                        activation='relu', padding='same')\n",
        "\n",
        "    out = concatenate([conv3x3, conv5x5, conv7x7], axis=3)\n",
        "    out = BatchNormalization(axis=3)(out)\n",
        "\n",
        "    out = add([shortcut, out])\n",
        "    out = Activation('relu')(out)\n",
        "    out = BatchNormalization(axis=3)(out)\n",
        "\n",
        "    return out"
      ],
      "metadata": {
        "id": "eTj4ltRJlmUr"
      },
      "execution_count": null,
      "outputs": []
    },
    {
      "cell_type": "code",
      "source": [
        "\n",
        "def ResPath(filters, length, inp):\n",
        "    '''\n",
        "    ResPath\n",
        "\n",
        "    Arguments:\n",
        "        filters {int} -- [description]\n",
        "        length {int} -- length of ResPath\n",
        "        inp {keras layer} -- input layer\n",
        "\n",
        "    Returns:\n",
        "        [keras layer] -- [output layer]\n",
        "    '''\n",
        "\n",
        "\n",
        "    shortcut = inp\n",
        "    shortcut = conv2d_bn(shortcut, filters, 1, 1,\n",
        "                          activation=None, padding='same')\n",
        "\n",
        "    out = conv2d_bn(inp, filters, 3, 3, activation='relu', padding='same')\n",
        "\n",
        "    out = add([shortcut, out])\n",
        "    out = Activation('relu')(out)\n",
        "    out = BatchNormalization(axis=3)(out)\n",
        "\n",
        "    for i in range(length-1):\n",
        "\n",
        "        shortcut = out\n",
        "        shortcut = conv2d_bn(shortcut, filters, 1, 1,\n",
        "                              activation=None, padding='same')\n",
        "\n",
        "        out = conv2d_bn(out, filters, 3, 3, activation='relu', padding='same')\n",
        "\n",
        "        out = add([shortcut, out])\n",
        "        out = Activation('relu')(out)\n",
        "        out = BatchNormalization(axis=3)(out)\n",
        "\n",
        "    return out\n"
      ],
      "metadata": {
        "id": "u6C22mTqlpWl"
      },
      "execution_count": null,
      "outputs": []
    },
    {
      "cell_type": "code",
      "source": [
        "# Correct recall for tf\n",
        "def recall_tf(y_true, y_pred):\n",
        "    Y_true = tf.dtypes.cast(y_true, tf.float32)\n",
        "    Y_true = K.flatten(Y_true)\n",
        "    Y_pred = tf.dtypes.cast(tf.math.greater(y_pred, 0.5), tf.float32)\n",
        "    Y_pred = K.flatten(Y_pred)\n",
        "\n",
        "    true_positives = tf.reduce_sum(Y_true * Y_pred)\n",
        "    possible_positives = tf.reduce_sum(Y_true)\n",
        "    recall = true_positives / (possible_positives + tf.keras.backend.epsilon())\n",
        "    return recall"
      ],
      "metadata": {
        "id": "JNTPlmMlDyH1"
      },
      "execution_count": null,
      "outputs": []
    },
    {
      "cell_type": "code",
      "source": [
        "# Correct tf precision\n",
        "def precision_tf(y_true, y_pred):\n",
        "    Y_true = tf.dtypes.cast(y_true, tf.float32)\n",
        "    Y_true = K.flatten(Y_true)\n",
        "    Y_pred = tf.dtypes.cast(tf.math.greater(y_pred, 0.5), tf.float32)\n",
        "    Y_pred = K.flatten(Y_pred)\n",
        "\n",
        "    true_positives = tf.reduce_sum(tf.round(tf.clip_by_value(Y_true * Y_pred, 0, 1)))\n",
        "    print(true_positives)\n",
        "    predicted_positives = tf.reduce_sum(tf.round(tf.clip_by_value(Y_pred, 0, 1)))\n",
        "    print(predicted_positives)\n",
        "    precision = true_positives / (predicted_positives + tf.keras.backend.epsilon())\n",
        "    return precision"
      ],
      "metadata": {
        "id": "4Dws_AYmDvcO"
      },
      "execution_count": null,
      "outputs": []
    },
    {
      "cell_type": "code",
      "source": [
        "# Correct tf dicecoefficient\n",
        "def dice_coefficient_tf(y_true, y_pred):\n",
        "    Y_true = tf.dtypes.cast(y_true, tf.float32)\n",
        "    Y_true = K.flatten(Y_true)\n",
        "    Y_pred = tf.dtypes.cast(tf.math.greater(y_pred, 0.5), tf.float32)\n",
        "    Y_pred = K.flatten(Y_pred)\n",
        "\n",
        "    smooth = 1e-5\n",
        "\n",
        "    intersection = tf.reduce_sum(Y_true * Y_pred)\n",
        "    union = tf.reduce_sum(Y_true) + tf.reduce_sum(Y_pred)\n",
        "    return (2.0 * intersection + smooth) / (union + smooth)\n"
      ],
      "metadata": {
        "id": "ltb04H2CDuvc"
      },
      "execution_count": null,
      "outputs": []
    },
    {
      "cell_type": "code",
      "source": [
        "def dice_coefficient_for_loss(y_true, y_pred):\n",
        "    Y_true = tf.dtypes.cast(y_true, tf.float32)\n",
        "    Y_true = K.flatten(Y_true)\n",
        "\n",
        "    Y_pred = K.flatten(y_pred)\n",
        "\n",
        "    smooth = 1e-5\n",
        "\n",
        "    intersection = K.sum(Y_true * Y_pred)\n",
        "\n",
        "    union = K.sum(Y_true) + K.sum(Y_pred)\n",
        "    return (2.0 * intersection + smooth) / (union + smooth)\n"
      ],
      "metadata": {
        "id": "qeF_YhjetVe-"
      },
      "execution_count": null,
      "outputs": []
    },
    {
      "cell_type": "code",
      "source": [
        "# def dice_coef_loss(y_true, y_pred):\n",
        "#     loss = - dice_coefficient_for_loss(y_true, y_pred)\n",
        "#     return loss"
      ],
      "metadata": {
        "id": "fYdwyTdG-wak"
      },
      "execution_count": null,
      "outputs": []
    },
    {
      "cell_type": "code",
      "source": [
        "def bce_dice_loss(y_true, y_pred):\n",
        "    bce = tf.keras.losses.binary_crossentropy(y_true, y_pred)\n",
        "    dice = 1 - dice_coefficient_for_loss(y_true, y_pred)\n",
        "    return bce + dice"
      ],
      "metadata": {
        "id": "3RnEo10CzW2M"
      },
      "execution_count": null,
      "outputs": []
    },
    {
      "cell_type": "code",
      "execution_count": null,
      "metadata": {
        "id": "0bexclh5lLQt",
        "colab": {
          "base_uri": "https://localhost:8080/"
        },
        "outputId": "d03dac61-b530-49b4-fc5c-b10393cf0d11"
      },
      "outputs": [
        {
          "output_type": "stream",
          "name": "stdout",
          "text": [
            "Epoch 1/150\n",
            "Tensor(\"Sum_6:0\", shape=(), dtype=float32)\n",
            "Tensor(\"Sum_7:0\", shape=(), dtype=float32)\n",
            "Tensor(\"Sum_6:0\", shape=(), dtype=float32)\n",
            "Tensor(\"Sum_7:0\", shape=(), dtype=float32)\n",
            "129/129 [==============================] - ETA: 0s - loss: 1.4593 - accuracy: 0.9176 - iou: 0.4818 - recall_tf: 0.9636 - precision_tf: 0.4794 - binaryIoU: 0.6062 - recall_inbuilt: 0.9630 - precision_inbuilt: 0.3012 - dice_coefficient_tf: 0.6053 - dice_coefficient_for_loss: 0.1333Tensor(\"Sum_6:0\", shape=(), dtype=float32)\n",
            "Tensor(\"Sum_7:0\", shape=(), dtype=float32)\n",
            "\n",
            "Epoch 1: val_loss improved from inf to 1.48613, saving model to /content/drive/MyDrive/Project7thSem/Heart_Dataset/MultiResUnet/EarlyStopping/BCE+DiceLoss/model_for_heart128.h5\n"
          ]
        },
        {
          "output_type": "stream",
          "name": "stderr",
          "text": [
            "/usr/local/lib/python3.10/dist-packages/keras/src/engine/training.py:3079: UserWarning: You are saving your model as an HDF5 file via `model.save()`. This file format is considered legacy. We recommend using instead the native Keras format, e.g. `model.save('my_model.keras')`.\n",
            "  saving_api.save_model(\n"
          ]
        },
        {
          "output_type": "stream",
          "name": "stdout",
          "text": [
            "\b\b\b\b\b\b\b\b\b\b\b\b\b\b\b\b\b\b\b\b\b\b\b\b\b\b\b\b\b\b\b\b\b\b\b\b\b\b\b\b\b\b\b\b\b\b\b\b\b\b\b\b\b\b\b\b\b\b\b\b\b\b\b\b\b\b\b\b\b\b\b\b\b\b\b\b\b\b\b\b\b\b\b\b\b\b\b\b\b\b\b\b\b\b\b\b\b\b\b\b\b\b\b\b\b\b\b\b\b\b\b\b\b\b\b\b\b\b\b\b\b\b\b\b\b\b\b\b\b\b\b\b\b\b\b\b\b\b\b\b\b\b\b\b\b\b\b\b\b\b\b\b\b\b\b\b\b\b\b\b\b\b\b\b\b\b\b\b\b\b\b\b\b\b\b\b\b\b\b\b\b\b\b\b\b\b\b\b\b\b\b\b\b\b\b\b\b\b\b\b\b\b\b\b\b\b\b\b\b\b\b\b\b\b\b\b\b\b\b\b\b\b\b\b\b\b\b\b\b\b\b\b\b\b\b\b\b\b\b\b\b\b\b\b\b\b\b\b\b\b\b\b\b\b\b\b\b\b\b\b\b\b\b\b\b\b\b\b\b\b\b\b\b\b\b\b\b\b\b\b\r129/129 [==============================] - 92s 304ms/step - loss: 1.4593 - accuracy: 0.9176 - iou: 0.4818 - recall_tf: 0.9636 - precision_tf: 0.4794 - binaryIoU: 0.6062 - recall_inbuilt: 0.9630 - precision_inbuilt: 0.3012 - dice_coefficient_tf: 0.6053 - dice_coefficient_for_loss: 0.1333 - val_loss: 1.4861 - val_accuracy: 0.9584 - val_iou: 0.4771 - val_recall_tf: 0.0555 - val_precision_tf: 0.2944 - val_binaryIoU: 0.5392 - val_recall_inbuilt: 0.1241 - val_precision_inbuilt: 0.7976 - val_dice_coefficient_tf: 0.0883 - val_dice_coefficient_for_loss: 0.0768\n",
            "Epoch 2/150\n",
            "129/129 [==============================] - ETA: 0s - loss: 1.3689 - accuracy: 0.9847 - iou: 0.4818 - recall_tf: 0.9852 - precision_tf: 0.6985 - binaryIoU: 0.8423 - recall_inbuilt: 0.9832 - precision_inbuilt: 0.7090 - dice_coefficient_tf: 0.8071 - dice_coefficient_for_loss: 0.1481\n",
            "Epoch 2: val_loss improved from 1.48613 to 1.34204, saving model to /content/drive/MyDrive/Project7thSem/Heart_Dataset/MultiResUnet/EarlyStopping/BCE+DiceLoss/model_for_heart128.h5\n",
            "129/129 [==============================] - 32s 245ms/step - loss: 1.3689 - accuracy: 0.9847 - iou: 0.4818 - recall_tf: 0.9852 - precision_tf: 0.6985 - binaryIoU: 0.8423 - recall_inbuilt: 0.9832 - precision_inbuilt: 0.7090 - dice_coefficient_tf: 0.8071 - dice_coefficient_for_loss: 0.1481 - val_loss: 1.3420 - val_accuracy: 0.9883 - val_iou: 0.4771 - val_recall_tf: 0.4890 - val_precision_tf: 0.4878 - val_binaryIoU: 0.8873 - val_recall_inbuilt: 0.9422 - val_precision_inbuilt: 0.8267 - val_dice_coefficient_tf: 0.8613 - val_dice_coefficient_for_loss: 0.1457\n",
            "Epoch 3/150\n",
            "129/129 [==============================] - ETA: 0s - loss: 1.3083 - accuracy: 0.9892 - iou: 0.4818 - recall_tf: 0.9859 - precision_tf: 0.7666 - binaryIoU: 0.8784 - recall_inbuilt: 0.9846 - precision_inbuilt: 0.7773 - dice_coefficient_tf: 0.8583 - dice_coefficient_for_loss: 0.1587\n",
            "Epoch 3: val_loss improved from 1.34204 to 1.28542, saving model to /content/drive/MyDrive/Project7thSem/Heart_Dataset/MultiResUnet/EarlyStopping/BCE+DiceLoss/model_for_heart128.h5\n",
            "129/129 [==============================] - 32s 247ms/step - loss: 1.3083 - accuracy: 0.9892 - iou: 0.4818 - recall_tf: 0.9859 - precision_tf: 0.7666 - binaryIoU: 0.8784 - recall_inbuilt: 0.9846 - precision_inbuilt: 0.7773 - dice_coefficient_tf: 0.8583 - dice_coefficient_for_loss: 0.1587 - val_loss: 1.2854 - val_accuracy: 0.9870 - val_iou: 0.4771 - val_recall_tf: 0.4346 - val_precision_tf: 0.4455 - val_binaryIoU: 0.8755 - val_recall_inbuilt: 0.9226 - val_precision_inbuilt: 0.8170 - val_dice_coefficient_tf: 0.8116 - val_dice_coefficient_for_loss: 0.1541\n",
            "Epoch 4/150\n",
            "129/129 [==============================] - ETA: 0s - loss: 1.2567 - accuracy: 0.9898 - iou: 0.4818 - recall_tf: 0.9833 - precision_tf: 0.7780 - binaryIoU: 0.8834 - recall_inbuilt: 0.9814 - precision_inbuilt: 0.7889 - dice_coefficient_tf: 0.8637 - dice_coefficient_for_loss: 0.1683\n",
            "Epoch 4: val_loss did not improve from 1.28542\n",
            "129/129 [==============================] - 30s 236ms/step - loss: 1.2567 - accuracy: 0.9898 - iou: 0.4818 - recall_tf: 0.9833 - precision_tf: 0.7780 - binaryIoU: 0.8834 - recall_inbuilt: 0.9814 - precision_inbuilt: 0.7889 - dice_coefficient_tf: 0.8637 - dice_coefficient_for_loss: 0.1683 - val_loss: 1.3246 - val_accuracy: 0.9490 - val_iou: 0.4771 - val_recall_tf: 0.5751 - val_precision_tf: 0.3177 - val_binaryIoU: 0.7086 - val_recall_inbuilt: 0.9891 - val_precision_inbuilt: 0.4732 - val_dice_coefficient_tf: 0.3820 - val_dice_coefficient_for_loss: 0.1679\n",
            "Epoch 5/150\n",
            "129/129 [==============================] - ETA: 0s - loss: 1.2053 - accuracy: 0.9912 - iou: 0.4818 - recall_tf: 0.9850 - precision_tf: 0.8019 - binaryIoU: 0.8963 - recall_inbuilt: 0.9829 - precision_inbuilt: 0.8132 - dice_coefficient_tf: 0.8805 - dice_coefficient_for_loss: 0.1800\n",
            "Epoch 5: val_loss improved from 1.28542 to 1.19648, saving model to /content/drive/MyDrive/Project7thSem/Heart_Dataset/MultiResUnet/EarlyStopping/BCE+DiceLoss/model_for_heart128.h5\n",
            "129/129 [==============================] - 32s 249ms/step - loss: 1.2053 - accuracy: 0.9912 - iou: 0.4818 - recall_tf: 0.9850 - precision_tf: 0.8019 - binaryIoU: 0.8963 - recall_inbuilt: 0.9829 - precision_inbuilt: 0.8132 - dice_coefficient_tf: 0.8805 - dice_coefficient_for_loss: 0.1800 - val_loss: 1.1965 - val_accuracy: 0.9791 - val_iou: 0.4771 - val_recall_tf: 0.5648 - val_precision_tf: 0.3961 - val_binaryIoU: 0.8310 - val_recall_inbuilt: 0.9849 - val_precision_inbuilt: 0.6912 - val_dice_coefficient_tf: 0.6494 - val_dice_coefficient_for_loss: 0.1788\n",
            "Epoch 6/150\n",
            "129/129 [==============================] - ETA: 0s - loss: 1.1584 - accuracy: 0.9921 - iou: 0.4818 - recall_tf: 0.9842 - precision_tf: 0.8163 - binaryIoU: 0.9053 - recall_inbuilt: 0.9833 - precision_inbuilt: 0.8304 - dice_coefficient_tf: 0.8890 - dice_coefficient_for_loss: 0.1917\n",
            "Epoch 6: val_loss improved from 1.19648 to 1.15328, saving model to /content/drive/MyDrive/Project7thSem/Heart_Dataset/MultiResUnet/EarlyStopping/BCE+DiceLoss/model_for_heart128.h5\n",
            "129/129 [==============================] - 32s 252ms/step - loss: 1.1584 - accuracy: 0.9921 - iou: 0.4818 - recall_tf: 0.9842 - precision_tf: 0.8163 - binaryIoU: 0.9053 - recall_inbuilt: 0.9833 - precision_inbuilt: 0.8304 - dice_coefficient_tf: 0.8890 - dice_coefficient_for_loss: 0.1917 - val_loss: 1.1533 - val_accuracy: 0.9855 - val_iou: 0.4771 - val_recall_tf: 0.5126 - val_precision_tf: 0.4035 - val_binaryIoU: 0.8687 - val_recall_inbuilt: 0.9603 - val_precision_inbuilt: 0.7767 - val_dice_coefficient_tf: 0.8456 - val_dice_coefficient_for_loss: 0.1827\n",
            "Epoch 7/150\n",
            "129/129 [==============================] - ETA: 0s - loss: 1.1148 - accuracy: 0.9922 - iou: 0.4818 - recall_tf: 0.9855 - precision_tf: 0.8231 - binaryIoU: 0.9061 - recall_inbuilt: 0.9836 - precision_inbuilt: 0.8317 - dice_coefficient_tf: 0.8924 - dice_coefficient_for_loss: 0.2039\n",
            "Epoch 7: val_loss improved from 1.15328 to 1.10621, saving model to /content/drive/MyDrive/Project7thSem/Heart_Dataset/MultiResUnet/EarlyStopping/BCE+DiceLoss/model_for_heart128.h5\n",
            "129/129 [==============================] - 32s 251ms/step - loss: 1.1148 - accuracy: 0.9922 - iou: 0.4818 - recall_tf: 0.9855 - precision_tf: 0.8231 - binaryIoU: 0.9061 - recall_inbuilt: 0.9836 - precision_inbuilt: 0.8317 - dice_coefficient_tf: 0.8924 - dice_coefficient_for_loss: 0.2039 - val_loss: 1.1062 - val_accuracy: 0.9875 - val_iou: 0.4771 - val_recall_tf: 0.5814 - val_precision_tf: 0.4298 - val_binaryIoU: 0.8846 - val_recall_inbuilt: 0.9771 - val_precision_inbuilt: 0.7968 - val_dice_coefficient_tf: 0.8790 - val_dice_coefficient_for_loss: 0.1952\n",
            "Epoch 8/150\n",
            "129/129 [==============================] - ETA: 0s - loss: 1.0692 - accuracy: 0.9940 - iou: 0.4818 - recall_tf: 0.9882 - precision_tf: 0.8588 - binaryIoU: 0.9254 - recall_inbuilt: 0.9869 - precision_inbuilt: 0.8668 - dice_coefficient_tf: 0.9171 - dice_coefficient_for_loss: 0.2187\n",
            "Epoch 8: val_loss improved from 1.10621 to 1.06859, saving model to /content/drive/MyDrive/Project7thSem/Heart_Dataset/MultiResUnet/EarlyStopping/BCE+DiceLoss/model_for_heart128.h5\n",
            "129/129 [==============================] - 32s 250ms/step - loss: 1.0692 - accuracy: 0.9940 - iou: 0.4818 - recall_tf: 0.9882 - precision_tf: 0.8588 - binaryIoU: 0.9254 - recall_inbuilt: 0.9869 - precision_inbuilt: 0.8668 - dice_coefficient_tf: 0.9171 - dice_coefficient_for_loss: 0.2187 - val_loss: 1.0686 - val_accuracy: 0.9909 - val_iou: 0.4771 - val_recall_tf: 0.5518 - val_precision_tf: 0.5100 - val_binaryIoU: 0.9094 - val_recall_inbuilt: 0.9566 - val_precision_inbuilt: 0.8606 - val_dice_coefficient_tf: 0.9295 - val_dice_coefficient_for_loss: 0.1989\n",
            "Epoch 9/150\n",
            "129/129 [==============================] - ETA: 0s - loss: 1.0296 - accuracy: 0.9945 - iou: 0.4818 - recall_tf: 0.9870 - precision_tf: 0.8691 - binaryIoU: 0.9302 - recall_inbuilt: 0.9855 - precision_inbuilt: 0.8772 - dice_coefficient_tf: 0.9228 - dice_coefficient_for_loss: 0.2319\n",
            "Epoch 9: val_loss improved from 1.06859 to 1.03489, saving model to /content/drive/MyDrive/Project7thSem/Heart_Dataset/MultiResUnet/EarlyStopping/BCE+DiceLoss/model_for_heart128.h5\n",
            "129/129 [==============================] - 32s 248ms/step - loss: 1.0296 - accuracy: 0.9945 - iou: 0.4818 - recall_tf: 0.9870 - precision_tf: 0.8691 - binaryIoU: 0.9302 - recall_inbuilt: 0.9855 - precision_inbuilt: 0.8772 - dice_coefficient_tf: 0.9228 - dice_coefficient_for_loss: 0.2319 - val_loss: 1.0349 - val_accuracy: 0.9915 - val_iou: 0.4771 - val_recall_tf: 0.5584 - val_precision_tf: 0.4883 - val_binaryIoU: 0.9139 - val_recall_inbuilt: 0.9525 - val_precision_inbuilt: 0.8731 - val_dice_coefficient_tf: 0.9063 - val_dice_coefficient_for_loss: 0.2076\n",
            "Epoch 10/150\n",
            "129/129 [==============================] - ETA: 0s - loss: 0.9931 - accuracy: 0.9943 - iou: 0.4818 - recall_tf: 0.9865 - precision_tf: 0.8632 - binaryIoU: 0.9282 - recall_inbuilt: 0.9854 - precision_inbuilt: 0.8735 - dice_coefficient_tf: 0.9187 - dice_coefficient_for_loss: 0.2455\n",
            "Epoch 10: val_loss improved from 1.03489 to 1.01994, saving model to /content/drive/MyDrive/Project7thSem/Heart_Dataset/MultiResUnet/EarlyStopping/BCE+DiceLoss/model_for_heart128.h5\n",
            "129/129 [==============================] - 32s 249ms/step - loss: 0.9931 - accuracy: 0.9943 - iou: 0.4818 - recall_tf: 0.9865 - precision_tf: 0.8632 - binaryIoU: 0.9282 - recall_inbuilt: 0.9854 - precision_inbuilt: 0.8735 - dice_coefficient_tf: 0.9187 - dice_coefficient_for_loss: 0.2455 - val_loss: 1.0199 - val_accuracy: 0.9890 - val_iou: 0.4771 - val_recall_tf: 0.4923 - val_precision_tf: 0.4941 - val_binaryIoU: 0.8902 - val_recall_inbuilt: 0.9104 - val_precision_inbuilt: 0.8587 - val_dice_coefficient_tf: 0.8849 - val_dice_coefficient_for_loss: 0.2053\n",
            "Epoch 11/150\n",
            "129/129 [==============================] - ETA: 0s - loss: 0.9553 - accuracy: 0.9944 - iou: 0.4818 - recall_tf: 0.9818 - precision_tf: 0.8714 - binaryIoU: 0.9290 - recall_inbuilt: 0.9807 - precision_inbuilt: 0.8787 - dice_coefficient_tf: 0.9216 - dice_coefficient_for_loss: 0.2615\n",
            "Epoch 11: val_loss improved from 1.01994 to 0.97396, saving model to /content/drive/MyDrive/Project7thSem/Heart_Dataset/MultiResUnet/EarlyStopping/BCE+DiceLoss/model_for_heart128.h5\n",
            "129/129 [==============================] - 33s 253ms/step - loss: 0.9553 - accuracy: 0.9944 - iou: 0.4818 - recall_tf: 0.9818 - precision_tf: 0.8714 - binaryIoU: 0.9290 - recall_inbuilt: 0.9807 - precision_inbuilt: 0.8787 - dice_coefficient_tf: 0.9216 - dice_coefficient_for_loss: 0.2615 - val_loss: 0.9740 - val_accuracy: 0.9909 - val_iou: 0.4771 - val_recall_tf: 0.5610 - val_precision_tf: 0.4690 - val_binaryIoU: 0.9097 - val_recall_inbuilt: 0.9597 - val_precision_inbuilt: 0.8588 - val_dice_coefficient_tf: 0.9054 - val_dice_coefficient_for_loss: 0.2272\n",
            "Epoch 12/150\n",
            "129/129 [==============================] - ETA: 0s - loss: 0.9203 - accuracy: 0.9948 - iou: 0.4819 - recall_tf: 0.9842 - precision_tf: 0.8727 - binaryIoU: 0.9335 - recall_inbuilt: 0.9810 - precision_inbuilt: 0.8873 - dice_coefficient_tf: 0.9214 - dice_coefficient_for_loss: 0.2767\n",
            "Epoch 12: val_loss improved from 0.97396 to 0.95622, saving model to /content/drive/MyDrive/Project7thSem/Heart_Dataset/MultiResUnet/EarlyStopping/BCE+DiceLoss/model_for_heart128.h5\n",
            "129/129 [==============================] - 33s 255ms/step - loss: 0.9203 - accuracy: 0.9948 - iou: 0.4819 - recall_tf: 0.9842 - precision_tf: 0.8727 - binaryIoU: 0.9335 - recall_inbuilt: 0.9810 - precision_inbuilt: 0.8873 - dice_coefficient_tf: 0.9214 - dice_coefficient_for_loss: 0.2767 - val_loss: 0.9562 - val_accuracy: 0.9908 - val_iou: 0.4771 - val_recall_tf: 0.4631 - val_precision_tf: 0.4589 - val_binaryIoU: 0.9057 - val_recall_inbuilt: 0.9145 - val_precision_inbuilt: 0.8892 - val_dice_coefficient_tf: 0.8597 - val_dice_coefficient_for_loss: 0.2276\n",
            "Epoch 13/150\n",
            "129/129 [==============================] - ETA: 0s - loss: 0.8849 - accuracy: 0.9954 - iou: 0.4818 - recall_tf: 0.9845 - precision_tf: 0.8933 - binaryIoU: 0.9410 - recall_inbuilt: 0.9828 - precision_inbuilt: 0.9006 - dice_coefficient_tf: 0.9357 - dice_coefficient_for_loss: 0.2936\n",
            "Epoch 13: val_loss improved from 0.95622 to 0.93145, saving model to /content/drive/MyDrive/Project7thSem/Heart_Dataset/MultiResUnet/EarlyStopping/BCE+DiceLoss/model_for_heart128.h5\n",
            "129/129 [==============================] - 33s 253ms/step - loss: 0.8849 - accuracy: 0.9954 - iou: 0.4818 - recall_tf: 0.9845 - precision_tf: 0.8933 - binaryIoU: 0.9410 - recall_inbuilt: 0.9828 - precision_inbuilt: 0.9006 - dice_coefficient_tf: 0.9357 - dice_coefficient_for_loss: 0.2936 - val_loss: 0.9314 - val_accuracy: 0.9905 - val_iou: 0.4771 - val_recall_tf: 0.4513 - val_precision_tf: 0.4461 - val_binaryIoU: 0.9029 - val_recall_inbuilt: 0.9127 - val_precision_inbuilt: 0.8847 - val_dice_coefficient_tf: 0.8476 - val_dice_coefficient_for_loss: 0.2361\n",
            "Epoch 14/150\n",
            "129/129 [==============================] - ETA: 0s - loss: 0.8490 - accuracy: 0.9959 - iou: 0.4818 - recall_tf: 0.9859 - precision_tf: 0.9047 - binaryIoU: 0.9469 - recall_inbuilt: 0.9843 - precision_inbuilt: 0.9112 - dice_coefficient_tf: 0.9429 - dice_coefficient_for_loss: 0.3127\n",
            "Epoch 14: val_loss improved from 0.93145 to 0.90562, saving model to /content/drive/MyDrive/Project7thSem/Heart_Dataset/MultiResUnet/EarlyStopping/BCE+DiceLoss/model_for_heart128.h5\n",
            "129/129 [==============================] - 32s 249ms/step - loss: 0.8490 - accuracy: 0.9959 - iou: 0.4818 - recall_tf: 0.9859 - precision_tf: 0.9047 - binaryIoU: 0.9469 - recall_inbuilt: 0.9843 - precision_inbuilt: 0.9112 - dice_coefficient_tf: 0.9429 - dice_coefficient_for_loss: 0.3127 - val_loss: 0.9056 - val_accuracy: 0.9914 - val_iou: 0.4771 - val_recall_tf: 0.5048 - val_precision_tf: 0.5319 - val_binaryIoU: 0.9088 - val_recall_inbuilt: 0.8980 - val_precision_inbuilt: 0.9123 - val_dice_coefficient_tf: 0.9104 - val_dice_coefficient_for_loss: 0.2445\n",
            "Epoch 15/150\n",
            "129/129 [==============================] - ETA: 0s - loss: 0.8175 - accuracy: 0.9962 - iou: 0.4818 - recall_tf: 0.9863 - precision_tf: 0.9109 - binaryIoU: 0.9503 - recall_inbuilt: 0.9842 - precision_inbuilt: 0.9179 - dice_coefficient_tf: 0.9465 - dice_coefficient_for_loss: 0.3293\n",
            "Epoch 15: val_loss improved from 0.90562 to 0.88077, saving model to /content/drive/MyDrive/Project7thSem/Heart_Dataset/MultiResUnet/EarlyStopping/BCE+DiceLoss/model_for_heart128.h5\n",
            "129/129 [==============================] - 33s 254ms/step - loss: 0.8175 - accuracy: 0.9962 - iou: 0.4818 - recall_tf: 0.9863 - precision_tf: 0.9109 - binaryIoU: 0.9503 - recall_inbuilt: 0.9842 - precision_inbuilt: 0.9179 - dice_coefficient_tf: 0.9465 - dice_coefficient_for_loss: 0.3293 - val_loss: 0.8808 - val_accuracy: 0.9916 - val_iou: 0.4771 - val_recall_tf: 0.5012 - val_precision_tf: 0.5060 - val_binaryIoU: 0.9120 - val_recall_inbuilt: 0.9093 - val_precision_inbuilt: 0.9083 - val_dice_coefficient_tf: 0.8764 - val_dice_coefficient_for_loss: 0.2549\n",
            "Epoch 16/150\n",
            "129/129 [==============================] - ETA: 0s - loss: 0.7842 - accuracy: 0.9958 - iou: 0.4818 - recall_tf: 0.9828 - precision_tf: 0.9067 - binaryIoU: 0.9454 - recall_inbuilt: 0.9806 - precision_inbuilt: 0.9113 - dice_coefficient_tf: 0.9421 - dice_coefficient_for_loss: 0.3499\n",
            "Epoch 16: val_loss improved from 0.88077 to 0.85854, saving model to /content/drive/MyDrive/Project7thSem/Heart_Dataset/MultiResUnet/EarlyStopping/BCE+DiceLoss/model_for_heart128.h5\n",
            "129/129 [==============================] - 32s 250ms/step - loss: 0.7842 - accuracy: 0.9958 - iou: 0.4818 - recall_tf: 0.9828 - precision_tf: 0.9067 - binaryIoU: 0.9454 - recall_inbuilt: 0.9806 - precision_inbuilt: 0.9113 - dice_coefficient_tf: 0.9421 - dice_coefficient_for_loss: 0.3499 - val_loss: 0.8585 - val_accuracy: 0.9928 - val_iou: 0.4771 - val_recall_tf: 0.4624 - val_precision_tf: 0.4980 - val_binaryIoU: 0.9223 - val_recall_inbuilt: 0.9101 - val_precision_inbuilt: 0.9305 - val_dice_coefficient_tf: 0.8766 - val_dice_coefficient_for_loss: 0.2624\n",
            "Epoch 17/150\n",
            "129/129 [==============================] - ETA: 0s - loss: 0.7602 - accuracy: 0.9952 - iou: 0.4818 - recall_tf: 0.9728 - precision_tf: 0.8933 - binaryIoU: 0.9371 - recall_inbuilt: 0.9704 - precision_inbuilt: 0.9034 - dice_coefficient_tf: 0.9293 - dice_coefficient_for_loss: 0.3635\n",
            "Epoch 17: val_loss improved from 0.85854 to 0.83173, saving model to /content/drive/MyDrive/Project7thSem/Heart_Dataset/MultiResUnet/EarlyStopping/BCE+DiceLoss/model_for_heart128.h5\n",
            "129/129 [==============================] - 32s 250ms/step - loss: 0.7602 - accuracy: 0.9952 - iou: 0.4818 - recall_tf: 0.9728 - precision_tf: 0.8933 - binaryIoU: 0.9371 - recall_inbuilt: 0.9704 - precision_inbuilt: 0.9034 - dice_coefficient_tf: 0.9293 - dice_coefficient_for_loss: 0.3635 - val_loss: 0.8317 - val_accuracy: 0.9905 - val_iou: 0.4771 - val_recall_tf: 0.5407 - val_precision_tf: 0.4678 - val_binaryIoU: 0.9051 - val_recall_inbuilt: 0.9391 - val_precision_inbuilt: 0.8660 - val_dice_coefficient_tf: 0.8895 - val_dice_coefficient_for_loss: 0.2818\n",
            "Epoch 18/150\n",
            "129/129 [==============================] - ETA: 0s - loss: 0.7259 - accuracy: 0.9959 - iou: 0.4818 - recall_tf: 0.9785 - precision_tf: 0.9106 - binaryIoU: 0.9463 - recall_inbuilt: 0.9761 - precision_inbuilt: 0.9170 - dice_coefficient_tf: 0.9416 - dice_coefficient_for_loss: 0.3857\n",
            "Epoch 18: val_loss improved from 0.83173 to 0.82993, saving model to /content/drive/MyDrive/Project7thSem/Heart_Dataset/MultiResUnet/EarlyStopping/BCE+DiceLoss/model_for_heart128.h5\n",
            "129/129 [==============================] - 33s 253ms/step - loss: 0.7259 - accuracy: 0.9959 - iou: 0.4818 - recall_tf: 0.9785 - precision_tf: 0.9106 - binaryIoU: 0.9463 - recall_inbuilt: 0.9761 - precision_inbuilt: 0.9170 - dice_coefficient_tf: 0.9416 - dice_coefficient_for_loss: 0.3857 - val_loss: 0.8299 - val_accuracy: 0.9911 - val_iou: 0.4771 - val_recall_tf: 0.4579 - val_precision_tf: 0.5301 - val_binaryIoU: 0.9068 - val_recall_inbuilt: 0.9021 - val_precision_inbuilt: 0.9036 - val_dice_coefficient_tf: 0.8779 - val_dice_coefficient_for_loss: 0.2742\n",
            "Epoch 19/150\n",
            "129/129 [==============================] - ETA: 0s - loss: 0.6979 - accuracy: 0.9962 - iou: 0.4818 - recall_tf: 0.9779 - precision_tf: 0.9127 - binaryIoU: 0.9493 - recall_inbuilt: 0.9756 - precision_inbuilt: 0.9233 - dice_coefficient_tf: 0.9419 - dice_coefficient_for_loss: 0.4039\n",
            "Epoch 19: val_loss improved from 0.82993 to 0.81369, saving model to /content/drive/MyDrive/Project7thSem/Heart_Dataset/MultiResUnet/EarlyStopping/BCE+DiceLoss/model_for_heart128.h5\n",
            "129/129 [==============================] - 33s 253ms/step - loss: 0.6979 - accuracy: 0.9962 - iou: 0.4818 - recall_tf: 0.9779 - precision_tf: 0.9127 - binaryIoU: 0.9493 - recall_inbuilt: 0.9756 - precision_inbuilt: 0.9233 - dice_coefficient_tf: 0.9419 - dice_coefficient_for_loss: 0.4039 - val_loss: 0.8137 - val_accuracy: 0.9917 - val_iou: 0.4771 - val_recall_tf: 0.4791 - val_precision_tf: 0.5418 - val_binaryIoU: 0.9122 - val_recall_inbuilt: 0.9024 - val_precision_inbuilt: 0.9154 - val_dice_coefficient_tf: 0.8979 - val_dice_coefficient_for_loss: 0.2804\n",
            "Epoch 20/150\n",
            "129/129 [==============================] - ETA: 0s - loss: 0.6672 - accuracy: 0.9966 - iou: 0.4818 - recall_tf: 0.9792 - precision_tf: 0.9228 - binaryIoU: 0.9542 - recall_inbuilt: 0.9760 - precision_inbuilt: 0.9329 - dice_coefficient_tf: 0.9484 - dice_coefficient_for_loss: 0.4250\n",
            "Epoch 20: val_loss improved from 0.81369 to 0.80544, saving model to /content/drive/MyDrive/Project7thSem/Heart_Dataset/MultiResUnet/EarlyStopping/BCE+DiceLoss/model_for_heart128.h5\n",
            "129/129 [==============================] - 33s 254ms/step - loss: 0.6672 - accuracy: 0.9966 - iou: 0.4818 - recall_tf: 0.9792 - precision_tf: 0.9228 - binaryIoU: 0.9542 - recall_inbuilt: 0.9760 - precision_inbuilt: 0.9329 - dice_coefficient_tf: 0.9484 - dice_coefficient_for_loss: 0.4250 - val_loss: 0.8054 - val_accuracy: 0.9916 - val_iou: 0.4771 - val_recall_tf: 0.4625 - val_precision_tf: 0.5486 - val_binaryIoU: 0.9100 - val_recall_inbuilt: 0.8837 - val_precision_inbuilt: 0.9303 - val_dice_coefficient_tf: 0.8757 - val_dice_coefficient_for_loss: 0.2812\n",
            "Epoch 21/150\n",
            "129/129 [==============================] - ETA: 0s - loss: 0.6367 - accuracy: 0.9968 - iou: 0.4818 - recall_tf: 0.9785 - precision_tf: 0.9346 - binaryIoU: 0.9571 - recall_inbuilt: 0.9756 - precision_inbuilt: 0.9391 - dice_coefficient_tf: 0.9556 - dice_coefficient_for_loss: 0.4472\n",
            "Epoch 21: val_loss improved from 0.80544 to 0.76983, saving model to /content/drive/MyDrive/Project7thSem/Heart_Dataset/MultiResUnet/EarlyStopping/BCE+DiceLoss/model_for_heart128.h5\n",
            "129/129 [==============================] - 33s 253ms/step - loss: 0.6367 - accuracy: 0.9968 - iou: 0.4818 - recall_tf: 0.9785 - precision_tf: 0.9346 - binaryIoU: 0.9571 - recall_inbuilt: 0.9756 - precision_inbuilt: 0.9391 - dice_coefficient_tf: 0.9556 - dice_coefficient_for_loss: 0.4472 - val_loss: 0.7698 - val_accuracy: 0.9922 - val_iou: 0.4771 - val_recall_tf: 0.5110 - val_precision_tf: 0.5341 - val_binaryIoU: 0.9173 - val_recall_inbuilt: 0.9081 - val_precision_inbuilt: 0.9213 - val_dice_coefficient_tf: 0.9147 - val_dice_coefficient_for_loss: 0.3055\n",
            "Epoch 22/150\n",
            "129/129 [==============================] - ETA: 0s - loss: 0.6154 - accuracy: 0.9965 - iou: 0.4818 - recall_tf: 0.9733 - precision_tf: 0.9253 - binaryIoU: 0.9529 - recall_inbuilt: 0.9699 - precision_inbuilt: 0.9358 - dice_coefficient_tf: 0.9469 - dice_coefficient_for_loss: 0.4623\n",
            "Epoch 22: val_loss improved from 0.76983 to 0.75950, saving model to /content/drive/MyDrive/Project7thSem/Heart_Dataset/MultiResUnet/EarlyStopping/BCE+DiceLoss/model_for_heart128.h5\n",
            "129/129 [==============================] - 32s 248ms/step - loss: 0.6154 - accuracy: 0.9965 - iou: 0.4818 - recall_tf: 0.9733 - precision_tf: 0.9253 - binaryIoU: 0.9529 - recall_inbuilt: 0.9699 - precision_inbuilt: 0.9358 - dice_coefficient_tf: 0.9469 - dice_coefficient_for_loss: 0.4623 - val_loss: 0.7595 - val_accuracy: 0.9909 - val_iou: 0.4771 - val_recall_tf: 0.4963 - val_precision_tf: 0.5129 - val_binaryIoU: 0.9063 - val_recall_inbuilt: 0.9145 - val_precision_inbuilt: 0.8906 - val_dice_coefficient_tf: 0.8886 - val_dice_coefficient_for_loss: 0.3129\n",
            "Epoch 23/150\n",
            "129/129 [==============================] - ETA: 0s - loss: 0.5874 - accuracy: 0.9970 - iou: 0.4818 - recall_tf: 0.9747 - precision_tf: 0.9410 - binaryIoU: 0.9586 - recall_inbuilt: 0.9706 - precision_inbuilt: 0.9468 - dice_coefficient_tf: 0.9570 - dice_coefficient_for_loss: 0.4833\n",
            "Epoch 23: val_loss did not improve from 0.75950\n",
            "129/129 [==============================] - 31s 238ms/step - loss: 0.5874 - accuracy: 0.9970 - iou: 0.4818 - recall_tf: 0.9747 - precision_tf: 0.9410 - binaryIoU: 0.9586 - recall_inbuilt: 0.9706 - precision_inbuilt: 0.9468 - dice_coefficient_tf: 0.9570 - dice_coefficient_for_loss: 0.4833 - val_loss: 0.7608 - val_accuracy: 0.9909 - val_iou: 0.4771 - val_recall_tf: 0.4116 - val_precision_tf: 0.4965 - val_binaryIoU: 0.9031 - val_recall_inbuilt: 0.8762 - val_precision_inbuilt: 0.9219 - val_dice_coefficient_tf: 0.8310 - val_dice_coefficient_for_loss: 0.3064\n",
            "Epoch 24/150\n",
            "129/129 [==============================] - ETA: 0s - loss: 0.5585 - accuracy: 0.9973 - iou: 0.4818 - recall_tf: 0.9753 - precision_tf: 0.9473 - binaryIoU: 0.9627 - recall_inbuilt: 0.9728 - precision_inbuilt: 0.9530 - dice_coefficient_tf: 0.9606 - dice_coefficient_for_loss: 0.5059\n",
            "Epoch 24: val_loss did not improve from 0.75950\n",
            "129/129 [==============================] - 30s 235ms/step - loss: 0.5585 - accuracy: 0.9973 - iou: 0.4818 - recall_tf: 0.9753 - precision_tf: 0.9473 - binaryIoU: 0.9627 - recall_inbuilt: 0.9728 - precision_inbuilt: 0.9530 - dice_coefficient_tf: 0.9606 - dice_coefficient_for_loss: 0.5059 - val_loss: 0.7619 - val_accuracy: 0.9903 - val_iou: 0.4771 - val_recall_tf: 0.5224 - val_precision_tf: 0.4774 - val_binaryIoU: 0.9002 - val_recall_inbuilt: 0.9056 - val_precision_inbuilt: 0.8855 - val_dice_coefficient_tf: 0.8175 - val_dice_coefficient_for_loss: 0.3034\n",
            "Epoch 25/150\n",
            "129/129 [==============================] - ETA: 0s - loss: 0.5413 - accuracy: 0.9972 - iou: 0.4818 - recall_tf: 0.9720 - precision_tf: 0.9508 - binaryIoU: 0.9622 - recall_inbuilt: 0.9680 - precision_inbuilt: 0.9566 - dice_coefficient_tf: 0.9607 - dice_coefficient_for_loss: 0.5186\n",
            "Epoch 25: val_loss improved from 0.75950 to 0.72772, saving model to /content/drive/MyDrive/Project7thSem/Heart_Dataset/MultiResUnet/EarlyStopping/BCE+DiceLoss/model_for_heart128.h5\n",
            "129/129 [==============================] - 32s 252ms/step - loss: 0.5413 - accuracy: 0.9972 - iou: 0.4818 - recall_tf: 0.9720 - precision_tf: 0.9508 - binaryIoU: 0.9622 - recall_inbuilt: 0.9680 - precision_inbuilt: 0.9566 - dice_coefficient_tf: 0.9607 - dice_coefficient_for_loss: 0.5186 - val_loss: 0.7277 - val_accuracy: 0.9917 - val_iou: 0.4771 - val_recall_tf: 0.4544 - val_precision_tf: 0.5614 - val_binaryIoU: 0.9115 - val_recall_inbuilt: 0.8918 - val_precision_inbuilt: 0.9251 - val_dice_coefficient_tf: 0.8737 - val_dice_coefficient_for_loss: 0.3271\n",
            "Epoch 26/150\n",
            "129/129 [==============================] - ETA: 0s - loss: 0.5154 - accuracy: 0.9976 - iou: 0.4818 - recall_tf: 0.9740 - precision_tf: 0.9589 - binaryIoU: 0.9668 - recall_inbuilt: 0.9702 - precision_inbuilt: 0.9639 - dice_coefficient_tf: 0.9661 - dice_coefficient_for_loss: 0.5396\n",
            "Epoch 26: val_loss improved from 0.72772 to 0.72077, saving model to /content/drive/MyDrive/Project7thSem/Heart_Dataset/MultiResUnet/EarlyStopping/BCE+DiceLoss/model_for_heart128.h5\n",
            "129/129 [==============================] - 33s 254ms/step - loss: 0.5154 - accuracy: 0.9976 - iou: 0.4818 - recall_tf: 0.9740 - precision_tf: 0.9589 - binaryIoU: 0.9668 - recall_inbuilt: 0.9702 - precision_inbuilt: 0.9639 - dice_coefficient_tf: 0.9661 - dice_coefficient_for_loss: 0.5396 - val_loss: 0.7208 - val_accuracy: 0.9919 - val_iou: 0.4771 - val_recall_tf: 0.4599 - val_precision_tf: 0.4865 - val_binaryIoU: 0.9137 - val_recall_inbuilt: 0.8955 - val_precision_inbuilt: 0.9262 - val_dice_coefficient_tf: 0.8716 - val_dice_coefficient_for_loss: 0.3303\n",
            "Epoch 27/150\n",
            "129/129 [==============================] - ETA: 0s - loss: 0.4976 - accuracy: 0.9976 - iou: 0.4818 - recall_tf: 0.9714 - precision_tf: 0.9631 - binaryIoU: 0.9669 - recall_inbuilt: 0.9672 - precision_inbuilt: 0.9669 - dice_coefficient_tf: 0.9669 - dice_coefficient_for_loss: 0.5538\n",
            "Epoch 27: val_loss did not improve from 0.72077\n",
            "129/129 [==============================] - 30s 235ms/step - loss: 0.4976 - accuracy: 0.9976 - iou: 0.4818 - recall_tf: 0.9714 - precision_tf: 0.9631 - binaryIoU: 0.9669 - recall_inbuilt: 0.9672 - precision_inbuilt: 0.9669 - dice_coefficient_tf: 0.9669 - dice_coefficient_for_loss: 0.5538 - val_loss: 0.7329 - val_accuracy: 0.9896 - val_iou: 0.4771 - val_recall_tf: 0.4401 - val_precision_tf: 0.4708 - val_binaryIoU: 0.8879 - val_recall_inbuilt: 0.8348 - val_precision_inbuilt: 0.9318 - val_dice_coefficient_tf: 0.8473 - val_dice_coefficient_for_loss: 0.3216\n",
            "Epoch 28/150\n",
            "129/129 [==============================] - ETA: 0s - loss: 0.4814 - accuracy: 0.9975 - iou: 0.4818 - recall_tf: 0.9692 - precision_tf: 0.9603 - binaryIoU: 0.9651 - recall_inbuilt: 0.9646 - precision_inbuilt: 0.9659 - dice_coefficient_tf: 0.9633 - dice_coefficient_for_loss: 0.5668\n",
            "Epoch 28: val_loss improved from 0.72077 to 0.71822, saving model to /content/drive/MyDrive/Project7thSem/Heart_Dataset/MultiResUnet/EarlyStopping/BCE+DiceLoss/model_for_heart128.h5\n",
            "129/129 [==============================] - 33s 254ms/step - loss: 0.4814 - accuracy: 0.9975 - iou: 0.4818 - recall_tf: 0.9692 - precision_tf: 0.9603 - binaryIoU: 0.9651 - recall_inbuilt: 0.9646 - precision_inbuilt: 0.9659 - dice_coefficient_tf: 0.9633 - dice_coefficient_for_loss: 0.5668 - val_loss: 0.7182 - val_accuracy: 0.9908 - val_iou: 0.4771 - val_recall_tf: 0.4152 - val_precision_tf: 0.5565 - val_binaryIoU: 0.9005 - val_recall_inbuilt: 0.8612 - val_precision_inbuilt: 0.9325 - val_dice_coefficient_tf: 0.8400 - val_dice_coefficient_for_loss: 0.3290\n",
            "Epoch 29/150\n",
            "129/129 [==============================] - ETA: 0s - loss: 0.4721 - accuracy: 0.9974 - iou: 0.4818 - recall_tf: 0.9663 - precision_tf: 0.9606 - binaryIoU: 0.9633 - recall_inbuilt: 0.9599 - precision_inbuilt: 0.9669 - dice_coefficient_tf: 0.9628 - dice_coefficient_for_loss: 0.5740\n",
            "Epoch 29: val_loss did not improve from 0.71822\n",
            "129/129 [==============================] - 30s 235ms/step - loss: 0.4721 - accuracy: 0.9974 - iou: 0.4818 - recall_tf: 0.9663 - precision_tf: 0.9606 - binaryIoU: 0.9633 - recall_inbuilt: 0.9599 - precision_inbuilt: 0.9669 - dice_coefficient_tf: 0.9628 - dice_coefficient_for_loss: 0.5740 - val_loss: 0.7230 - val_accuracy: 0.9911 - val_iou: 0.4771 - val_recall_tf: 0.3984 - val_precision_tf: 0.5009 - val_binaryIoU: 0.9036 - val_recall_inbuilt: 0.8667 - val_precision_inbuilt: 0.9338 - val_dice_coefficient_tf: 0.8177 - val_dice_coefficient_for_loss: 0.3234\n",
            "Epoch 30/150\n",
            "129/129 [==============================] - ETA: 0s - loss: 0.4518 - accuracy: 0.9976 - iou: 0.4818 - recall_tf: 0.9660 - precision_tf: 0.9686 - binaryIoU: 0.9669 - recall_inbuilt: 0.9608 - precision_inbuilt: 0.9734 - dice_coefficient_tf: 0.9668 - dice_coefficient_for_loss: 0.5913\n",
            "Epoch 30: val_loss did not improve from 0.71822\n",
            "129/129 [==============================] - 30s 235ms/step - loss: 0.4518 - accuracy: 0.9976 - iou: 0.4818 - recall_tf: 0.9660 - precision_tf: 0.9686 - binaryIoU: 0.9669 - recall_inbuilt: 0.9608 - precision_inbuilt: 0.9734 - dice_coefficient_tf: 0.9668 - dice_coefficient_for_loss: 0.5913 - val_loss: 0.7591 - val_accuracy: 0.9889 - val_iou: 0.4771 - val_recall_tf: 0.3436 - val_precision_tf: 0.4475 - val_binaryIoU: 0.8766 - val_recall_inbuilt: 0.7869 - val_precision_inbuilt: 0.9643 - val_dice_coefficient_tf: 0.7707 - val_dice_coefficient_for_loss: 0.2947\n",
            "Epoch 31/150\n",
            "129/129 [==============================] - ETA: 0s - loss: 0.4361 - accuracy: 0.9976 - iou: 0.4818 - recall_tf: 0.9607 - precision_tf: 0.9655 - binaryIoU: 0.9661 - recall_inbuilt: 0.9645 - precision_inbuilt: 0.9681 - dice_coefficient_tf: 0.9628 - dice_coefficient_for_loss: 0.6048\n",
            "Epoch 31: val_loss did not improve from 0.71822\n",
            "129/129 [==============================] - 31s 238ms/step - loss: 0.4361 - accuracy: 0.9976 - iou: 0.4818 - recall_tf: 0.9607 - precision_tf: 0.9655 - binaryIoU: 0.9661 - recall_inbuilt: 0.9645 - precision_inbuilt: 0.9681 - dice_coefficient_tf: 0.9628 - dice_coefficient_for_loss: 0.6048 - val_loss: 0.7301 - val_accuracy: 0.9901 - val_iou: 0.4771 - val_recall_tf: 0.3857 - val_precision_tf: 0.5025 - val_binaryIoU: 0.8926 - val_recall_inbuilt: 0.8433 - val_precision_inbuilt: 0.9336 - val_dice_coefficient_tf: 0.8092 - val_dice_coefficient_for_loss: 0.3155\n",
            "Epoch 32/150\n",
            "129/129 [==============================] - ETA: 0s - loss: 0.4225 - accuracy: 0.9975 - iou: 0.4818 - recall_tf: 0.9629 - precision_tf: 0.9695 - binaryIoU: 0.9657 - recall_inbuilt: 0.9575 - precision_inbuilt: 0.9743 - dice_coefficient_tf: 0.9655 - dice_coefficient_for_loss: 0.6167\n",
            "Epoch 32: val_loss improved from 0.71822 to 0.69993, saving model to /content/drive/MyDrive/Project7thSem/Heart_Dataset/MultiResUnet/EarlyStopping/BCE+DiceLoss/model_for_heart128.h5\n",
            "129/129 [==============================] - 32s 251ms/step - loss: 0.4225 - accuracy: 0.9975 - iou: 0.4818 - recall_tf: 0.9629 - precision_tf: 0.9695 - binaryIoU: 0.9657 - recall_inbuilt: 0.9575 - precision_inbuilt: 0.9743 - dice_coefficient_tf: 0.9655 - dice_coefficient_for_loss: 0.6167 - val_loss: 0.6999 - val_accuracy: 0.9922 - val_iou: 0.4771 - val_recall_tf: 0.4313 - val_precision_tf: 0.5059 - val_binaryIoU: 0.9148 - val_recall_inbuilt: 0.8833 - val_precision_inbuilt: 0.9421 - val_dice_coefficient_tf: 0.8570 - val_dice_coefficient_for_loss: 0.3383\n",
            "Epoch 33/150\n",
            "129/129 [==============================] - ETA: 0s - loss: 0.4182 - accuracy: 0.9975 - iou: 0.4818 - recall_tf: 0.9593 - precision_tf: 0.9714 - binaryIoU: 0.9650 - recall_inbuilt: 0.9532 - precision_inbuilt: 0.9773 - dice_coefficient_tf: 0.9647 - dice_coefficient_for_loss: 0.6200\n",
            "Epoch 33: val_loss did not improve from 0.69993\n",
            "129/129 [==============================] - 31s 239ms/step - loss: 0.4182 - accuracy: 0.9975 - iou: 0.4818 - recall_tf: 0.9593 - precision_tf: 0.9714 - binaryIoU: 0.9650 - recall_inbuilt: 0.9532 - precision_inbuilt: 0.9773 - dice_coefficient_tf: 0.9647 - dice_coefficient_for_loss: 0.6200 - val_loss: 0.7306 - val_accuracy: 0.9896 - val_iou: 0.4771 - val_recall_tf: 0.3704 - val_precision_tf: 0.4371 - val_binaryIoU: 0.8877 - val_recall_inbuilt: 0.8327 - val_precision_inbuilt: 0.9338 - val_dice_coefficient_tf: 0.7890 - val_dice_coefficient_for_loss: 0.3150\n",
            "Epoch 34/150\n",
            "129/129 [==============================] - ETA: 0s - loss: 0.4068 - accuracy: 0.9974 - iou: 0.4818 - recall_tf: 0.9568 - precision_tf: 0.9723 - binaryIoU: 0.9636 - recall_inbuilt: 0.9510 - precision_inbuilt: 0.9766 - dice_coefficient_tf: 0.9640 - dice_coefficient_for_loss: 0.6301\n",
            "Epoch 34: val_loss did not improve from 0.69993\n",
            "129/129 [==============================] - 31s 239ms/step - loss: 0.4068 - accuracy: 0.9974 - iou: 0.4818 - recall_tf: 0.9568 - precision_tf: 0.9723 - binaryIoU: 0.9636 - recall_inbuilt: 0.9510 - precision_inbuilt: 0.9766 - dice_coefficient_tf: 0.9640 - dice_coefficient_for_loss: 0.6301 - val_loss: 0.9128 - val_accuracy: 0.9720 - val_iou: 0.4771 - val_recall_tf: 0.1743 - val_precision_tf: 0.3885 - val_binaryIoU: 0.6855 - val_recall_inbuilt: 0.4054 - val_precision_inbuilt: 0.9647 - val_dice_coefficient_tf: 0.6299 - val_dice_coefficient_for_loss: 0.1988\n",
            "Epoch 35/150\n",
            "129/129 [==============================] - ETA: 0s - loss: 0.4026 - accuracy: 0.9968 - iou: 0.4818 - recall_tf: 0.9465 - precision_tf: 0.9690 - binaryIoU: 0.9555 - recall_inbuilt: 0.9386 - precision_inbuilt: 0.9724 - dice_coefficient_tf: 0.9570 - dice_coefficient_for_loss: 0.6344\n",
            "Epoch 35: val_loss did not improve from 0.69993\n",
            "129/129 [==============================] - 31s 238ms/step - loss: 0.4026 - accuracy: 0.9968 - iou: 0.4818 - recall_tf: 0.9465 - precision_tf: 0.9690 - binaryIoU: 0.9555 - recall_inbuilt: 0.9386 - precision_inbuilt: 0.9724 - dice_coefficient_tf: 0.9570 - dice_coefficient_for_loss: 0.6344 - val_loss: 0.7120 - val_accuracy: 0.9892 - val_iou: 0.4771 - val_recall_tf: 0.3727 - val_precision_tf: 0.4276 - val_binaryIoU: 0.8843 - val_recall_inbuilt: 0.8370 - val_precision_inbuilt: 0.9196 - val_dice_coefficient_tf: 0.7893 - val_dice_coefficient_for_loss: 0.3298\n",
            "Epoch 36/150\n",
            "129/129 [==============================] - ETA: 0s - loss: 0.4003 - accuracy: 0.9965 - iou: 0.4818 - recall_tf: 0.9437 - precision_tf: 0.9585 - binaryIoU: 0.9517 - recall_inbuilt: 0.9373 - precision_inbuilt: 0.9657 - dice_coefficient_tf: 0.9493 - dice_coefficient_for_loss: 0.6362\n",
            "Epoch 36: val_loss improved from 0.69993 to 0.65983, saving model to /content/drive/MyDrive/Project7thSem/Heart_Dataset/MultiResUnet/EarlyStopping/BCE+DiceLoss/model_for_heart128.h5\n",
            "129/129 [==============================] - 32s 249ms/step - loss: 0.4003 - accuracy: 0.9965 - iou: 0.4818 - recall_tf: 0.9437 - precision_tf: 0.9585 - binaryIoU: 0.9517 - recall_inbuilt: 0.9373 - precision_inbuilt: 0.9657 - dice_coefficient_tf: 0.9493 - dice_coefficient_for_loss: 0.6362 - val_loss: 0.6598 - val_accuracy: 0.9915 - val_iou: 0.4771 - val_recall_tf: 0.5120 - val_precision_tf: 0.5469 - val_binaryIoU: 0.9112 - val_recall_inbuilt: 0.9107 - val_precision_inbuilt: 0.9049 - val_dice_coefficient_tf: 0.9255 - val_dice_coefficient_for_loss: 0.3706\n",
            "Epoch 37/150\n",
            "129/129 [==============================] - ETA: 0s - loss: 0.3889 - accuracy: 0.9973 - iou: 0.4818 - recall_tf: 0.9524 - precision_tf: 0.9749 - binaryIoU: 0.9620 - recall_inbuilt: 0.9445 - precision_inbuilt: 0.9802 - dice_coefficient_tf: 0.9628 - dice_coefficient_for_loss: 0.6455\n",
            "Epoch 37: val_loss did not improve from 0.65983\n",
            "129/129 [==============================] - 31s 238ms/step - loss: 0.3889 - accuracy: 0.9973 - iou: 0.4818 - recall_tf: 0.9524 - precision_tf: 0.9749 - binaryIoU: 0.9620 - recall_inbuilt: 0.9445 - precision_inbuilt: 0.9802 - dice_coefficient_tf: 0.9628 - dice_coefficient_for_loss: 0.6455 - val_loss: 0.7061 - val_accuracy: 0.9910 - val_iou: 0.4771 - val_recall_tf: 0.3833 - val_precision_tf: 0.4461 - val_binaryIoU: 0.9006 - val_recall_inbuilt: 0.8443 - val_precision_inbuilt: 0.9533 - val_dice_coefficient_tf: 0.8078 - val_dice_coefficient_for_loss: 0.3318\n",
            "Epoch 38/150\n",
            "129/129 [==============================] - ETA: 0s - loss: 0.3857 - accuracy: 0.9971 - iou: 0.4818 - recall_tf: 0.9433 - precision_tf: 0.9787 - binaryIoU: 0.9586 - recall_inbuilt: 0.9360 - precision_inbuilt: 0.9821 - dice_coefficient_tf: 0.9599 - dice_coefficient_for_loss: 0.6490\n",
            "Epoch 38: val_loss did not improve from 0.65983\n",
            "129/129 [==============================] - 31s 239ms/step - loss: 0.3857 - accuracy: 0.9971 - iou: 0.4818 - recall_tf: 0.9433 - precision_tf: 0.9787 - binaryIoU: 0.9586 - recall_inbuilt: 0.9360 - precision_inbuilt: 0.9821 - dice_coefficient_tf: 0.9599 - dice_coefficient_for_loss: 0.6490 - val_loss: 0.6810 - val_accuracy: 0.9915 - val_iou: 0.4771 - val_recall_tf: 0.4401 - val_precision_tf: 0.5702 - val_binaryIoU: 0.9076 - val_recall_inbuilt: 0.8639 - val_precision_inbuilt: 0.9470 - val_dice_coefficient_tf: 0.8752 - val_dice_coefficient_for_loss: 0.3521\n",
            "Epoch 39/150\n",
            "129/129 [==============================] - ETA: 0s - loss: 0.3837 - accuracy: 0.9959 - iou: 0.4818 - recall_tf: 0.9272 - precision_tf: 0.9741 - binaryIoU: 0.9429 - recall_inbuilt: 0.9089 - precision_inbuilt: 0.9771 - dice_coefficient_tf: 0.9417 - dice_coefficient_for_loss: 0.6501\n",
            "Epoch 39: val_loss did not improve from 0.65983\n",
            "129/129 [==============================] - 31s 239ms/step - loss: 0.3837 - accuracy: 0.9959 - iou: 0.4818 - recall_tf: 0.9272 - precision_tf: 0.9741 - binaryIoU: 0.9429 - recall_inbuilt: 0.9089 - precision_inbuilt: 0.9771 - dice_coefficient_tf: 0.9417 - dice_coefficient_for_loss: 0.6501 - val_loss: 0.6930 - val_accuracy: 0.9916 - val_iou: 0.4771 - val_recall_tf: 0.4499 - val_precision_tf: 0.4962 - val_binaryIoU: 0.9093 - val_recall_inbuilt: 0.8763 - val_precision_inbuilt: 0.9367 - val_dice_coefficient_tf: 0.8689 - val_dice_coefficient_for_loss: 0.3417\n",
            "Epoch 40/150\n",
            "129/129 [==============================] - ETA: 0s - loss: 0.3708 - accuracy: 0.9972 - iou: 0.4818 - recall_tf: 0.9481 - precision_tf: 0.9848 - binaryIoU: 0.9609 - recall_inbuilt: 0.9354 - precision_inbuilt: 0.9877 - dice_coefficient_tf: 0.9621 - dice_coefficient_for_loss: 0.6613\n",
            "Epoch 40: val_loss did not improve from 0.65983\n",
            "129/129 [==============================] - 30s 236ms/step - loss: 0.3708 - accuracy: 0.9972 - iou: 0.4818 - recall_tf: 0.9481 - precision_tf: 0.9848 - binaryIoU: 0.9609 - recall_inbuilt: 0.9354 - precision_inbuilt: 0.9877 - dice_coefficient_tf: 0.9621 - dice_coefficient_for_loss: 0.6613 - val_loss: 0.7396 - val_accuracy: 0.9891 - val_iou: 0.4771 - val_recall_tf: 0.3613 - val_precision_tf: 0.4347 - val_binaryIoU: 0.8819 - val_recall_inbuilt: 0.8175 - val_precision_inbuilt: 0.9372 - val_dice_coefficient_tf: 0.7826 - val_dice_coefficient_for_loss: 0.3061\n",
            "Epoch 41/150\n",
            "129/129 [==============================] - ETA: 0s - loss: 0.3694 - accuracy: 0.9975 - iou: 0.4818 - recall_tf: 0.9520 - precision_tf: 0.9859 - binaryIoU: 0.9647 - recall_inbuilt: 0.9415 - precision_inbuilt: 0.9892 - dice_coefficient_tf: 0.9675 - dice_coefficient_for_loss: 0.6627\n",
            "Epoch 41: val_loss did not improve from 0.65983\n",
            "129/129 [==============================] - 31s 239ms/step - loss: 0.3694 - accuracy: 0.9975 - iou: 0.4818 - recall_tf: 0.9520 - precision_tf: 0.9859 - binaryIoU: 0.9647 - recall_inbuilt: 0.9415 - precision_inbuilt: 0.9892 - dice_coefficient_tf: 0.9675 - dice_coefficient_for_loss: 0.6627 - val_loss: 0.7127 - val_accuracy: 0.9900 - val_iou: 0.4771 - val_recall_tf: 0.3725 - val_precision_tf: 0.4474 - val_binaryIoU: 0.8899 - val_recall_inbuilt: 0.8176 - val_precision_inbuilt: 0.9591 - val_dice_coefficient_tf: 0.8028 - val_dice_coefficient_for_loss: 0.3276\n"
          ]
        }
      ],
      "source": [
        "\n",
        "IMG_HEIGHT = 128\n",
        "IMG_WIDTH = 128\n",
        "IMG_CHANNELS = 1\n",
        "X_train = np.load('/content/drive/MyDrive/Dataset/X_train.npy')\n",
        "Y_train = np.load('/content/drive/MyDrive/Dataset/Y_train.npy')\n",
        "\n",
        "\n",
        "inputs = Input((IMG_HEIGHT, IMG_WIDTH, IMG_CHANNELS))\n",
        "\n",
        "\n",
        "mresblock1 = MultiResBlock(32, inputs)\n",
        "pool1 = MaxPooling2D(pool_size=(2, 2))(mresblock1)\n",
        "mresblock1 = ResPath(32, 4, mresblock1)\n",
        "\n",
        "mresblock2 = MultiResBlock(32*2, pool1)\n",
        "pool2 = MaxPooling2D(pool_size=(2, 2))(mresblock2)\n",
        "mresblock2 = ResPath(32*2, 3, mresblock2)\n",
        "\n",
        "mresblock3 = MultiResBlock(32*4, pool2)\n",
        "pool3 = MaxPooling2D(pool_size=(2, 2))(mresblock3)\n",
        "mresblock3 = ResPath(32*4, 2, mresblock3)\n",
        "\n",
        "mresblock4 = MultiResBlock(32*8, pool3)\n",
        "pool4 = MaxPooling2D(pool_size=(2, 2))(mresblock4)\n",
        "mresblock4 = ResPath(32*8, 1, mresblock4)\n",
        "\n",
        "mresblock5 = MultiResBlock(32*16, pool4)\n",
        "\n",
        "up6 = concatenate([Conv2DTranspose(\n",
        "    32*8, (2, 2), strides=(2, 2), padding='same')(mresblock5), mresblock4], axis=3)\n",
        "mresblock6 = MultiResBlock(32*8, up6)\n",
        "\n",
        "up7 = concatenate([Conv2DTranspose(\n",
        "    32*4, (2, 2), strides=(2, 2), padding='same')(mresblock6), mresblock3], axis=3)\n",
        "mresblock7 = MultiResBlock(32*4, up7)\n",
        "\n",
        "up8 = concatenate([Conv2DTranspose(\n",
        "    32*2, (2, 2), strides=(2, 2), padding='same')(mresblock7), mresblock2], axis=3)\n",
        "mresblock8 = MultiResBlock(32*2, up8)\n",
        "\n",
        "up9 = concatenate([Conv2DTranspose(32, (2, 2), strides=(\n",
        "    2, 2), padding='same')(mresblock8), mresblock1], axis=3)\n",
        "mresblock9 = MultiResBlock(32, up9)\n",
        "\n",
        "conv10 = conv2d_bn(mresblock9, 1, 1, 1, activation='sigmoid')\n",
        "\n",
        "model = Model(inputs=inputs, outputs=conv10)\n",
        "\n",
        "\n",
        "model.compile(\n",
        "    optimizer=Adam(learning_rate),\n",
        "    loss= bce_dice_loss,\n",
        "    metrics=[\n",
        "        BinaryAccuracy(name='accuracy'),  # Binary Accuracy\n",
        "        MeanIoU(num_classes=2, name='iou'),  # Intersection Over Union (IoU)\n",
        "        recall_tf,  # Sensitivity\n",
        "        precision_tf,\n",
        "         tf.keras.metrics.BinaryIoU(\n",
        "            threshold=0.5,\n",
        "            name='binaryIoU',\n",
        "            dtype=None\n",
        "        ),\n",
        "        Recall(name='recall_inbuilt'),\n",
        "        Precision(name='precision_inbuilt'),\n",
        "        dice_coefficient_tf, # Custom dice coefficient function\n",
        "        dice_coefficient_for_loss\n",
        "    ]\n",
        ")\n",
        "# model.summary()\n",
        "checkpointer = tf.keras.callbacks.ModelCheckpoint('/content/drive/MyDrive/Project7thSem/Heart_Dataset/MultiResUnet/EarlyStopping/BCE+DiceLoss/model_for_heart128.h5', verbose=1, save_best_only=True)\n",
        "\n",
        "\n",
        "callbacks = [\n",
        "               tf.keras.callbacks.EarlyStopping(patience = 5, monitor = 'val_loss'),\n",
        "              tf.keras.callbacks.TensorBoard(log_dir = '/content/drive/MyDrive/Project7thSem/Heart_Dataset/MultiResUnet/EarlyStopping/BCE+DiceLoss'),\n",
        "              checkpointer\n",
        "]\n",
        "\n",
        "# Saving the accuracy as the model gets trained\n",
        "\n",
        "results = model.fit(X_train, Y_train, validation_split=0.1, batch_size=16, epochs=150, callbacks=callbacks)\n",
        "model.save('/content/drive/MyDrive/Project7thSem/Heart_Dataset/MultiResUnet/EarlyStopping/BCE+DiceLoss/multiresunet_model128.h5')\n",
        "\n",
        "\n",
        "# Saving the data\n",
        "with open('/content/drive/MyDrive/Project7thSem/Heart_Dataset/MultiResUnet/EarlyStopping/BCE+DiceLoss/training_history128.json', 'w') as file:\n",
        "     json.dump(results.history, file)\n",
        "#     # return model"
      ]
    },
    {
      "cell_type": "code",
      "source": [
        "X_test = np.load('/content/drive/MyDrive/Dataset/X_test.npy')\n",
        "Y_test = np.load('/content/drive/MyDrive/Dataset/Y_test.npy')"
      ],
      "metadata": {
        "id": "D6ai69yw5WPx"
      },
      "execution_count": null,
      "outputs": []
    },
    {
      "cell_type": "code",
      "source": [
        "results = model.evaluate(X_test, Y_test)"
      ],
      "metadata": {
        "colab": {
          "base_uri": "https://localhost:8080/"
        },
        "id": "A3ac2rNO5YMB",
        "outputId": "ce349ecb-09e4-4466-e740-51b0e9c6e8ba"
      },
      "execution_count": null,
      "outputs": [
        {
          "output_type": "stream",
          "name": "stdout",
          "text": [
            "8/8 [==============================] - 6s 480ms/step - loss: 0.3823 - accuracy: 0.9953 - iou: 0.4825 - recall_tf: 0.8921 - precision_tf: 0.9691 - binaryIoU: 0.9325 - recall_inbuilt: 0.8961 - precision_inbuilt: 0.9674 - dice_coefficient_tf: 0.9282 - dice_coefficient_for_loss: 0.6521\n"
          ]
        }
      ]
    },
    {
      "cell_type": "code",
      "source": [
        "labels = ['loss', 'accuracy', 'iou', 'recall', 'precision', 'binaryIoU', 'recall_inbuilt', 'precision_inbuilt', 'dice_coefficient_tf', 'dice_coeff_for_loss']\n",
        "results_dict = dict(zip(labels, results))\n",
        "\n",
        "with open('/content/drive/MyDrive/Project7thSem/Heart_Dataset/MultiResUnet/EarlyStopping/BCE+DiceLoss/Graph/testing_results_final.json', 'w') as json_file:\n",
        "    json.dump(results_dict, json_file)"
      ],
      "metadata": {
        "id": "vCFI4IjS5c_k"
      },
      "execution_count": null,
      "outputs": []
    },
    {
      "cell_type": "code",
      "source": [],
      "metadata": {
        "id": "cq7KRuRH5wUE"
      },
      "execution_count": null,
      "outputs": []
    },
    {
      "cell_type": "code",
      "source": [
        "y_pred = (model.predict(X_test) > 0.5).astype(np.uint8)"
      ],
      "metadata": {
        "colab": {
          "base_uri": "https://localhost:8080/"
        },
        "id": "xG1MMkzLQZs5",
        "outputId": "5eb2e207-62ca-4871-b568-9975304c6218"
      },
      "execution_count": null,
      "outputs": [
        {
          "output_type": "stream",
          "name": "stdout",
          "text": [
            "8/8 [==============================] - 2s 111ms/step\n"
          ]
        }
      ]
    },
    {
      "cell_type": "code",
      "source": [
        "# [[TN, FP],\n",
        " # [FN, TP]]\n",
        "from sklearn.metrics import confusion_matrix, classification_report\n",
        "conf_mat = confusion_matrix(Y_test.flatten(), y_pred.flatten())\n",
        "print(conf_mat)"
      ],
      "metadata": {
        "id": "J3xlggBeQfef",
        "colab": {
          "base_uri": "https://localhost:8080/"
        },
        "outputId": "47744fb1-ffc9-456b-913e-a449e6343bdd"
      },
      "execution_count": null,
      "outputs": [
        {
          "output_type": "stream",
          "name": "stdout",
          "text": [
            "[[3995505    4393]\n",
            " [  15085  130169]]\n"
          ]
        }
      ]
    },
    {
      "cell_type": "code",
      "source": [
        "plt.imshow(Y_test[245], cmap='gray')  # Use 'gray' colormap for grayscale images\n",
        "# plt.imshow(Y_test[24], cmap='gray')  # Use 'gray' colormap for grayscale images\n",
        "# plt.title('Image X_test[24]-->61.png')\n",
        "plt.axis('off')  # Optional to hide axis labels\n",
        "plt.show()"
      ],
      "metadata": {
        "colab": {
          "base_uri": "https://localhost:8080/",
          "height": 406
        },
        "id": "Y8ZsH2obmKfs",
        "outputId": "f7d40f7c-15e5-4b50-e1b7-138914935e1e"
      },
      "execution_count": null,
      "outputs": [
        {
          "output_type": "display_data",
          "data": {
            "text/plain": [
              "<Figure size 640x480 with 1 Axes>"
            ],
            "image/png": "[encoded data removed]"
          },
          "metadata": {}
        }
      ]
    },
    {
      "cell_type": "code",
      "source": [
        "plt.imshow(y_pred[245], cmap='gray')  # Use 'gray' colormap for grayscale images\n",
        "# plt.imshow(Y_test[24], cmap='gray')  # Use 'gray' colormap for grayscale images\n",
        "# plt.title('Image X_test[24]-->61.png')\n",
        "plt.axis('off')  # Optional to hide axis labels\n",
        "plt.show()"
      ],
      "metadata": {
        "colab": {
          "base_uri": "https://localhost:8080/",
          "height": 406
        },
        "id": "j0UWm98Zb8xs",
        "outputId": "d9006e89-210e-443b-e832-bc161c21c5cf"
      },
      "execution_count": null,
      "outputs": [
        {
          "output_type": "display_data",
          "data": {
            "text/plain": [
              "<Figure size 640x480 with 1 Axes>"
            ],
            "image/png": "[encoded data removed]"
          },
          "metadata": {}
        }
      ]
    }
  ]
}